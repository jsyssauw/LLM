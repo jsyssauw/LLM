{
 "cells": [
  {
   "cell_type": "code",
   "execution_count": 1,
   "metadata": {},
   "outputs": [
    {
     "name": "stdout",
     "output_type": "stream",
     "text": [
      "dall-e-2\n",
      "gpt-4o-2024-11-20\n",
      "o1-mini-2024-09-12\n",
      "gpt-4o-mini-realtime-preview-2024-12-17\n",
      "o1-preview-2024-09-12\n",
      "o1-mini\n",
      "o1-preview\n",
      "gpt-4o-mini-realtime-preview\n",
      "gpt-4o-mini-audio-preview-2024-12-17\n",
      "chatgpt-4o-latest\n",
      "whisper-1\n",
      "gpt-4-turbo\n",
      "gpt-4o-mini-audio-preview\n",
      "babbage-002\n",
      "omni-moderation-latest\n",
      "omni-moderation-2024-09-26\n",
      "tts-1-hd-1106\n",
      "gpt-4o-audio-preview-2024-12-17\n",
      "gpt-4-turbo-preview\n",
      "gpt-4o-audio-preview\n",
      "gpt-4-0125-preview\n",
      "text-embedding-3-large\n",
      "gpt-4o-2024-05-13\n",
      "gpt-4o-mini-2024-07-18\n",
      "tts-1-hd\n",
      "gpt-4o-mini\n",
      "gpt-4-turbo-2024-04-09\n",
      "tts-1\n",
      "tts-1-1106\n",
      "davinci-002\n",
      "gpt-3.5-turbo-1106\n",
      "gpt-3.5-turbo-instruct\n",
      "dall-e-3\n",
      "gpt-3.5-turbo-instruct-0914\n",
      "gpt-3.5-turbo-0125\n",
      "gpt-4o-realtime-preview-2024-12-17\n",
      "gpt-3.5-turbo\n",
      "gpt-4o-realtime-preview\n",
      "gpt-3.5-turbo-16k\n",
      "text-embedding-3-small\n",
      "gpt-4\n",
      "text-embedding-ada-002\n",
      "gpt-4-1106-preview\n",
      "gpt-4o-audio-preview-2024-10-01\n",
      "gpt-4o-2024-08-06\n",
      "gpt-4o\n",
      "gpt-4-0613\n",
      "gpt-4o-realtime-preview-2024-10-01\n"
     ]
    }
   ],
   "source": [
    "import openai\n",
    "import os\n",
    "\n",
    "# Set your API key\n",
    "openai.api_key = os.getenv(\"OPENAI_API_KEY\", \"your-api-key-here\")\n",
    "\n",
    "# List available models\n",
    "response = openai.models.list()\n",
    "\n",
    "# Print model IDs\n",
    "for model in response.data:\n",
    "    print(model.id)"
   ]
  },
  {
   "cell_type": "code",
   "execution_count": null,
   "metadata": {},
   "outputs": [],
   "source": []
  }
 ],
 "metadata": {
  "kernelspec": {
   "display_name": "llms",
   "language": "python",
   "name": "python3"
  },
  "language_info": {
   "codemirror_mode": {
    "name": "ipython",
    "version": 3
   },
   "file_extension": ".py",
   "mimetype": "text/x-python",
   "name": "python",
   "nbconvert_exporter": "python",
   "pygments_lexer": "ipython3",
   "version": "3.11.11"
  }
 },
 "nbformat": 4,
 "nbformat_minor": 2
}
