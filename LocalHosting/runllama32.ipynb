{
 "cells": [
  {
   "cell_type": "code",
   "execution_count": 1,
   "metadata": {},
   "outputs": [
    {
     "name": "stdout",
     "output_type": "stream",
     "text": [
      "You said: fok\n",
      "\n",
      "Generating response...\n",
      "\n",
      "Response (deepseek-r1):\n",
      "<think>\n",
      "\n",
      "</think>\n",
      "\n",
      "Hello! How can I assist you today? 😊\n",
      "\n",
      "You said: fexit\n"
     ]
    }
   ],
   "source": [
    "import requests\n",
    "import json\n",
    "\n",
    "OLLAMA_URL = \"http://localhost:11434/api/generate\"  # Adjust if running Ollama on a different port\n",
    "\n",
    "def generate_response(model, prompt):\n",
    "    \"\"\"Send a request to Ollama for inference using the specified model.\"\"\"\n",
    "    payload = {\n",
    "        \"model\": model,\n",
    "        \"prompt\": prompt,\n",
    "        \"stream\": False\n",
    "    }\n",
    "    \n",
    "    response = requests.post(OLLAMA_URL, json=payload)\n",
    "    if response.status_code == 200:\n",
    "        return response.json()[\"response\"]\n",
    "    else:\n",
    "        return f\"Error: {response.status_code}, {response.text}\"\n",
    "\n",
    "def main():\n",
    "    # models = [\"llama3.2\", \"deepseek-r1\"]  # Adjust model names if necessary\n",
    "    model = \"deepseek-r1\"\n",
    "    #  print(\"Welcome to Ollama Inference CLI\")\n",
    "    while True:\n",
    "        # print(\"\\nAvailable models:\")\n",
    "        # for idx, model in enumerate(models):\n",
    "        #     print(f\"{idx + 1}. {model}\")\n",
    "        # print(\"3. Exit\")\n",
    "\n",
    "        # choice = input(\"\\nSelect a model (1-3): \").strip()\n",
    "        # if choice == \"3\":\n",
    "        #     print(\"Exiting...\")\n",
    "        #     break\n",
    "        # elif choice in [\"1\", \"2\"]:\n",
    "            # model = models[int(choice) - 1]\n",
    "        prompt = input(\"\\nEnter your prompt: \").strip()\n",
    "        print(f\"You said: f{prompt}\")\n",
    "        if prompt == \"exit\":\n",
    "            break\n",
    "        print(\"\\nGenerating response...\")\n",
    "        response = generate_response(model, prompt)\n",
    "        print(f\"\\nResponse ({model}):\\n{response}\\n\")\n",
    "        \n",
    "if __name__ == \"__main__\":\n",
    "    main()\n"
   ]
  },
  {
   "cell_type": "code",
   "execution_count": null,
   "metadata": {},
   "outputs": [],
   "source": []
  }
 ],
 "metadata": {
  "kernelspec": {
   "display_name": "llms",
   "language": "python",
   "name": "python3"
  },
  "language_info": {
   "codemirror_mode": {
    "name": "ipython",
    "version": 3
   },
   "file_extension": ".py",
   "mimetype": "text/x-python",
   "name": "python",
   "nbconvert_exporter": "python",
   "pygments_lexer": "ipython3",
   "version": "3.11.11"
  }
 },
 "nbformat": 4,
 "nbformat_minor": 2
}
