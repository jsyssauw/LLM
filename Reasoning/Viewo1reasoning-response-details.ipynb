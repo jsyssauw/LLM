{
 "cells": [
  {
   "cell_type": "code",
   "execution_count": 3,
   "metadata": {},
   "outputs": [],
   "source": [
    "import os\n",
    "from openai import OpenAI\n",
    "from dotenv import load_dotenv"
   ]
  },
  {
   "cell_type": "code",
   "execution_count": 4,
   "metadata": {},
   "outputs": [],
   "source": [
    "load_dotenv()\n",
    "os.environ['OPENAI_API_KEY'] = os.getenv('OPENAI_API_KEY', 'your-key-if-not-using-env')\n",
    "client = OpenAI()\n",
    "GTP_MODEL= 'gpt-4o-mini'\n",
    "O1_MODEL= 'o1-mini'"
   ]
  },
  {
   "cell_type": "code",
   "execution_count": 9,
   "metadata": {},
   "outputs": [],
   "source": [
    "response_o1 = client.chat.completions.create(\n",
    "    model=O1_MODEL, \n",
    "    messages = [\n",
    "        {\"role\":\"user\",\n",
    "         \"content\": \"How many r's are there in Strawberry?\" }\n",
    "    ])\n",
    "\n",
    "response_4o = client.chat.completions.create(\n",
    "    model=GTP_MODEL, \n",
    "    messages = [\n",
    "        {\"role\":\"user\",\n",
    "         \"content\": \"How many r's are there in Strawberry?\" }\n",
    "    ])"
   ]
  },
  {
   "cell_type": "code",
   "execution_count": 12,
   "metadata": {},
   "outputs": [
    {
     "data": {
      "text/plain": [
       "ChatCompletion(id='chatcmpl-AzLlifyJnHAixcVpIEtYML1XYmvN8', choices=[Choice(finish_reason='stop', index=0, logprobs=None, message=ChatCompletionMessage(content='There are **three** **\\'r\\'** letters in the word **\"Strawberry.\"**', refusal=None, role='assistant', audio=None, function_call=None, tool_calls=None))], created=1739185050, model='o1-mini-2024-09-12', object='chat.completion', service_tier='default', system_fingerprint='fp_f56e40de61', usage=CompletionUsage(completion_tokens=225, prompt_tokens=16, total_tokens=241, completion_tokens_details=CompletionTokensDetails(accepted_prediction_tokens=0, audio_tokens=0, reasoning_tokens=192, rejected_prediction_tokens=0), prompt_tokens_details=PromptTokensDetails(audio_tokens=0, cached_tokens=0)))"
      ]
     },
     "execution_count": 12,
     "metadata": {},
     "output_type": "execute_result"
    }
   ],
   "source": [
    "response_o1"
   ]
  },
  {
   "cell_type": "markdown",
   "metadata": {},
   "source": [
    "ChatCompletion(id='chatcmpl-AzLlifyJnHAixcVpIEtYML1XYmvN8', choices=[Choice(finish_reason='stop', index=0, logprobs=None, message=ChatCompletionMessage(content='There are **three** **\\'r\\'** letters in the word **\"Strawberry.\"**', refusal=None, role='assistant', audio=None, function_call=None, tool_calls=None))], created=1739185050, model='o1-mini-2024-09-12', object='chat.completion', service_tier='default', system_fingerprint='fp_f56e40de61', usage=CompletionUsage(completion_tokens=225, prompt_tokens=16, total_tokens=241, completion_tokens_details=CompletionTokensDetails(accepted_prediction_tokens=0, audio_tokens=0, reasoning_tokens=192, rejected_prediction_tokens=0), prompt_tokens_details=PromptTokensDetails(audio_tokens=0, cached_tokens=0)))\n"
   ]
  },
  {
   "cell_type": "code",
   "execution_count": 11,
   "metadata": {},
   "outputs": [
    {
     "name": "stdout",
     "output_type": "stream",
     "text": [
      "4o Response\n",
      "#############\n",
      "Prompt tokens: 16\n",
      "Completion tokens: 15\n",
      "Reasoning tokens: 0\n",
      "Output tokens: 15\n",
      "o1 Response\n",
      "#############\n",
      "Prompt tokens: 16\n",
      "Completion tokens: 225\n",
      "Reasoning tokens: 192\n",
      "Output tokens: 33\n"
     ]
    }
   ],
   "source": [
    "print(\"4o Response\")\n",
    "print(\"#############\")\n",
    "print(\"Prompt tokens: \" + str(response_4o.usage.prompt_tokens))\n",
    "print(\"Completion tokens: \" + str(response_4o.usage.completion_tokens))\n",
    "print(\"Reasoning tokens: \" + str(response_4o.usage.completion_tokens_details.reasoning_tokens))\n",
    "print(\"Output tokens: \" + str(response_4o.usage.completion_tokens - response_4o.usage.completion_tokens_details.reasoning_tokens ))\n",
    "print(\"Output tokens: \" + str(response_4o.usage.completion_tokens - response_4o.usage.completion_tokens_details.reasoning_tokens ))\n",
    "print(\"o1 Response\")\n",
    "print(\"#############\")\n",
    "print(\"Prompt tokens: \" + str(response_o1.usage.prompt_tokens))\n",
    "print(\"Completion tokens: \" + str(response_o1.usage.completion_tokens))\n",
    "print(\"Reasoning tokens: \" + str(response_o1.usage.completion_tokens_details.reasoning_tokens))\n",
    "print(\"Output tokens: \" + str(response_o1.usage.completion_tokens - response_o1.usage.completion_tokens_details.reasoning_tokens ))\n",
    "print(\"Output tokens: \" + str(response_4o.usage.completion_tokens - response_4o.usage.completion_tokens_details.reasoning_tokens ))"
   ]
  },
  {
   "cell_type": "code",
   "execution_count": null,
   "metadata": {},
   "outputs": [],
   "source": []
  }
 ],
 "metadata": {
  "kernelspec": {
   "display_name": "llms",
   "language": "python",
   "name": "python3"
  },
  "language_info": {
   "codemirror_mode": {
    "name": "ipython",
    "version": 3
   },
   "file_extension": ".py",
   "mimetype": "text/x-python",
   "name": "python",
   "nbconvert_exporter": "python",
   "pygments_lexer": "ipython3",
   "version": "3.11.11"
  }
 },
 "nbformat": 4,
 "nbformat_minor": 2
}
