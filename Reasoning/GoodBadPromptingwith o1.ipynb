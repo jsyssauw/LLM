{
 "cells": [
  {
   "cell_type": "code",
   "execution_count": 1,
   "metadata": {},
   "outputs": [],
   "source": [
    "import os\n",
    "from openai import OpenAI\n",
    "from dotenv import load_dotenv"
   ]
  },
  {
   "cell_type": "code",
   "execution_count": 2,
   "metadata": {},
   "outputs": [],
   "source": [
    "import json\n",
    "from IPython.display import display, Markdown, HTML"
   ]
  },
  {
   "cell_type": "code",
   "execution_count": 3,
   "metadata": {},
   "outputs": [],
   "source": [
    "load_dotenv()\n",
    "os.environ['OPENAI_API_KEY'] = os.getenv('OPENAI_API_KEY', 'your-key-if-not-using-env')\n",
    "client = OpenAI()\n",
    "GTP_MODEL= 'gpt-4o-mini'\n",
    "O1_MODEL= 'o1-mini'"
   ]
  },
  {
   "cell_type": "code",
   "execution_count": 4,
   "metadata": {},
   "outputs": [],
   "source": [
    "response = client.chat.completions.create(\n",
    "    model=O1_MODEL, \n",
    "    messages = [\n",
    "        {\"role\":\"user\",\n",
    "         \"content\": \"How many r's are there in Strawberry?\" }\n",
    "    ])"
   ]
  },
  {
   "cell_type": "code",
   "execution_count": 5,
   "metadata": {},
   "outputs": [
    {
     "data": {
      "text/plain": [
       "ChatCompletion(id='chatcmpl-AzhX9T2aX1UlPg1nhIwKf7C525NYo', choices=[Choice(finish_reason='stop', index=0, logprobs=None, message=ChatCompletionMessage(content='In the word **\"strawberry\"**, there are **two** letter **\"r\"s**.\\n\\nHere\\'s the breakdown:\\n\\n- **S**\\n- **T**\\n- **R**\\n- **A**\\n- **W**\\n- **B**\\n- **E**\\n- **R**\\n- **R**\\n- **Y**\\n\\nWhile it might appear that there are three \"r\"s due to the double \"r\" towards the end, the standard spelling of \"strawberry\" includes **two** \"r\"s.', refusal=None, role='assistant', audio=None, function_call=None, tool_calls=None))], created=1739268715, model='o1-mini-2024-09-12', object='chat.completion', service_tier='default', system_fingerprint='fp_f56e40de61', usage=CompletionUsage(completion_tokens=1077, prompt_tokens=16, total_tokens=1093, completion_tokens_details=CompletionTokensDetails(accepted_prediction_tokens=0, audio_tokens=0, reasoning_tokens=960, rejected_prediction_tokens=0), prompt_tokens_details=PromptTokensDetails(audio_tokens=0, cached_tokens=0)))"
      ]
     },
     "execution_count": 5,
     "metadata": {},
     "output_type": "execute_result"
    }
   ],
   "source": [
    "response"
   ]
  },
  {
   "cell_type": "markdown",
   "metadata": {},
   "source": [
    "usage=CompletionUsage(\n",
    "    completion_tokens=222, \n",
    "    prompt_tokens=16, \n",
    "    total_tokens=238, \n",
    "    completion_tokens_details=CompletionTokensDetails(\n",
    "        accepted_prediction_tokens=0, \n",
    "        audio_tokens=0, \n",
    "        reasoning_tokens=192, \n",
    "        rejected_prediction_tokens=0)"
   ]
  },
  {
   "cell_type": "markdown",
   "metadata": {},
   "source": [
    "    1) Simple & Direct: \n",
    "        a. straightforward and concise promprts\n",
    "        b. direct instructions yield the best results with o1 models\n",
    "    2) No explicit Chain of Thought (CoT) required:\n",
    "        a. you can skip step-by-step reasoning prompts\n",
    "        b. the o1 models can infer and execute these itself without detailed breakdowns\n",
    "    3) Structure:\n",
    "        a. break complex prompts into sections, using delimiters like markdown, XML tags or quotes\n",
    "        b. this enhances model accuracy and simplifies the troubleshooting\n",
    "    4) Show rather than tell:\n",
    "        a. rather than using excessive explanation, give a contextual example to give the model understanding of the broad domain of your task\n"
   ]
  },
  {
   "cell_type": "code",
   "execution_count": 6,
   "metadata": {},
   "outputs": [],
   "source": [
    "## bad example\n",
    "bad_prompt = (\"Generate a function that outputs the SMILES IDs for all the molecules involved in insulin.\"\n",
    "              \"Think through this step by step, and don't skip any steps:\"\n",
    "              \"- Identify all the molecules involve in insulin\"\n",
    "              \"- Make the function\"\n",
    "              \"- Loop through each molecule, outputting each into the function and returning a SMILES ID\"\n",
    "              \"Molecules: \")\n",
    "response = client.chat.completions.create(model=O1_MODEL,messages=[{\"role\":\"user\",\"content\": bad_prompt}])"
   ]
  },
  {
   "cell_type": "code",
   "execution_count": 7,
   "metadata": {},
   "outputs": [
    {
     "data": {
      "text/html": [
       "<div style=\"background-color: #f0fff8; padding: 10px; border-radius: 5px; border: 1px solid #d3d3d3;\"></hr><h2>🔽 &nbsp; Markdown Output – Beginning</h2></hr></div>"
      ],
      "text/plain": [
       "<IPython.core.display.HTML object>"
      ]
     },
     "metadata": {},
     "output_type": "display_data"
    },
    {
     "data": {
      "text/markdown": [
       "Sure, let's walk through the process step-by-step to create a function that outputs the SMILES (Simplified Molecular Input Line Entry System) IDs for all the molecules involved in insulin.\n",
       "\n",
       "### Step 1: Identify All Molecules Involved in Insulin\n",
       "\n",
       "Insulin is a peptide hormone composed of amino acids. Specifically, it consists of two polypeptide chains:\n",
       "\n",
       "- **Chain A**: 21 amino acids\n",
       "- **Chain B**: 30 amino acids\n",
       "\n",
       "In total, insulin is made up of **51 amino acids**. For our purpose, we'll identify the unique amino acids present in insulin to avoid redundancy when generating SMILES IDs.\n",
       "\n",
       "### Step 2: Mapping Amino Acids to Their SMILES Strings\n",
       "\n",
       "Each amino acid has a unique side chain, which defines its chemical properties. We'll create a dictionary that maps each amino acid to its corresponding SMILES string. Below are the 20 standard amino acids with their SMILES representations:\n",
       "\n",
       "| Amino Acid | SMILES                                |\n",
       "|------------|---------------------------------------|\n",
       "| Alanine (A) | `CC(C(=O)O)N`                          |\n",
       "| Arginine (R) | `CCC(CC(=O)O)NCCCCN=C(N)N`            |\n",
       "| Asparagine (N) | `CC(C(=O)O)NCC(=O)N`                  |\n",
       "| Aspartic Acid (D) | `CC(C(=O)O)CC(=O)O`                  |\n",
       "| Cysteine (C) | `CC(C(=O)O)NC(CS)C(=O)O`               |\n",
       "| Glutamic Acid (E) | `CCC(CC(=O)O)C(C(=O)O)N`            |\n",
       "| Glutamine (Q) | `CCC(CC(=O)O)NC(CC(=O)N)C(=O)O`        |\n",
       "| Glycine (G) | `C(C(=O)O)N`                           |\n",
       "| Histidine (H) | `CC(C(=O)O)NC1=C(N)C=CN=C1`            |\n",
       "| Isoleucine (I) | `CC(C)CC(C(=O)O)N`                      |\n",
       "| Leucine (L) | `CC(C)CC(C(=O)O)N`                      |\n",
       "| Lysine (K) | `CCCC(CC(C(=O)O)N)N`                     |\n",
       "| Methionine (M) | `CC(C)CCSC(C(=O)O)N`                    |\n",
       "| Phenylalanine (F) | `CC(C(=O)O)NC1=CC=CC=C1`             |\n",
       "| Proline (P) | `CC1CCNC1C(=O)O`                         |\n",
       "| Serine (S) | `CC(C(=O)O)NC(O)C(=O)O`                  |\n",
       "| Threonine (T) | `CC(C(C(=O)O)O)NC(C(=O)O)O`             |\n",
       "| Tryptophan (W) | `CC(C(=O)O)NC1=C2C=CC=CC2=CN=C1`       |\n",
       "| Tyrosine (Y) | `CC(C(=O)O)NC1=CC=C(O)C=C1`             |\n",
       "| Valine (V) | `CC(C)C(C(=O)O)N`                         |\n",
       "\n",
       "*Note: The SMILES strings provided are simplified representations of the amino acids and may not capture all stereochemical details.*\n",
       "\n",
       "### Step 3: Creating the Function\n",
       "\n",
       "We'll create a Python function that:\n",
       "\n",
       "1. **Stores** the unique amino acids involved in insulin along with their SMILES strings in a dictionary.\n",
       "2. **Loops** through each amino acid in insulin.\n",
       "3. **Outputs** the corresponding SMILES ID.\n",
       "\n",
       "Here's the implementation:\n",
       "\n",
       "```python\n",
       "def get_insulin_smiles():\n",
       "    \"\"\"\n",
       "    Returns the SMILES IDs for all unique amino acids involved in insulin.\n",
       "    \n",
       "    Insulin consists of two chains:\n",
       "    - Chain A: 21 amino acids\n",
       "    - Chain B: 30 amino acids\n",
       "    \n",
       "    This function lists the unique amino acids and their SMILES representations.\n",
       "    \"\"\"\n",
       "    \n",
       "    # Dictionary mapping amino acids to their SMILES strings\n",
       "    amino_acids_smiles = {\n",
       "        \"Ala\": \"CC(C(=O)O)N\",  # Alanine\n",
       "        \"Arg\": \"CCC(CC(=O)O)NCCCCN=C(N)N\",  # Arginine\n",
       "        \"Asn\": \"CC(C(=O)O)NCC(=O)N\",  # Asparagine\n",
       "        \"Asp\": \"CC(C(=O)O)CC(=O)O\",  # Aspartic Acid\n",
       "        \"Cys\": \"CC(C(=O)O)NC(CS)C(=O)O\",  # Cysteine\n",
       "        \"Glu\": \"CCC(CC(=O)O)C(C(=O)O)N\",  # Glutamic Acid\n",
       "        \"Gln\": \"CCC(CC(=O)O)NC(CC(=O)N)C(=O)O\",  # Glutamine\n",
       "        \"Gly\": \"C(C(=O)O)N\",  # Glycine\n",
       "        \"His\": \"CC(C(=O)O)NC1=C(N)C=CN=C1\",  # Histidine\n",
       "        \"Ile\": \"CC(C)CC(C(=O)O)N\",  # Isoleucine\n",
       "        \"Leu\": \"CC(C)CC(C(=O)O)N\",  # Leucine\n",
       "        \"Lys\": \"CCCC(CC(C(=O)O)N)N\",  # Lysine\n",
       "        \"Met\": \"CC(C)CCSC(C(=O)O)N\",  # Methionine\n",
       "        \"Phe\": \"CC(C(=O)O)NC1=CC=CC=C1\",  # Phenylalanine\n",
       "        \"Pro\": \"CC1CCNC1C(=O)O\",  # Proline\n",
       "        \"Ser\": \"CC(C(=O)O)NC(O)C(=O)O\",  # Serine\n",
       "        \"Thr\": \"CC(C(C(=O)O)O)NC(C(=O)O)O\",  # Threonine\n",
       "        \"Trp\": \"CC(C(=O)O)NC1=C2C=CC=CC2=CN=C1\",  # Tryptophan\n",
       "        \"Tyr\": \"CC(C(=O)O)NC1=CC=C(O)C=C1\",  # Tyrosine\n",
       "        \"Val\": \"CC(C)C(C(=O)O)N\"   # Valine\n",
       "    }\n",
       "    \n",
       "    # List of amino acids in insulin (Chain A and Chain B)\n",
       "    # For simplicity, only unique amino acids are considered\n",
       "    insulin_sequence = [\n",
       "        # Chain A (21 amino acids)\n",
       "        \"Gly\", \"Ile\", \"Val\", \"Glu\", \"Gln\", \"Cys\",\n",
       "        \"Cys\", \"Tyr\", \"Thr\", \"Thr\", \"Pro\",\n",
       "        # Chain B (30 amino acids)\n",
       "        \"Phe\", \"Val\", \"Asn\", \"Gln\", \"His\", \"Leu\",\n",
       "        \"Cys\", \"Gly\", \"Ser\", \"His\", \"Leu\", \"Val\",\n",
       "        \"Glu\", \"Ala\", \"Leu\", \"Tyr\", \"Leu\", \"Gln\",\n",
       "        \"Asn\", \"Leu\", \"Ile\", \"Gln\", \"Cys\", \"Gly\",\n",
       "        \"Ser\", \"Arg\", \"Arg\", \"Pro\", \"Phe\", \"Phe\"\n",
       "    ]\n",
       "    \n",
       "    # To ensure uniqueness, we can use a set\n",
       "    unique_amino_acids = set(insulin_sequence)\n",
       "    \n",
       "    # Dictionary to store the SMILES of amino acids present in insulin\n",
       "    insulin_smiles = {}\n",
       "    \n",
       "    for aa in unique_amino_acids:\n",
       "        smiles = amino_acids_smiles.get(aa)\n",
       "        if smiles:\n",
       "            insulin_smiles[aa] = smiles\n",
       "        else:\n",
       "            insulin_smiles[aa] = \"SMILES not available\"\n",
       "    \n",
       "    return insulin_smiles\n",
       "\n",
       "# Example usage\n",
       "if __name__ == \"__main__\":\n",
       "    smiles_dict = get_insulin_smiles()\n",
       "    for aa, smiles in smiles_dict.items():\n",
       "        print(f\"Amino Acid: {aa}, SMILES: {smiles}\")\n",
       "```\n",
       "\n",
       "### Explanation of the Function\n",
       "\n",
       "1. **Amino Acids Dictionary (`amino_acids_smiles`)**:\n",
       "   - This dictionary maps the three-letter codes of amino acids to their respective SMILES strings.\n",
       "   - The three-letter codes (e.g., \"Ala\" for Alanine) are used for clarity and standardization.\n",
       "\n",
       "2. **Insulin Sequence (`insulin_sequence`)**:\n",
       "   - This list contains the sequence of amino acids in both Chain A and Chain B of insulin.\n",
       "   - For simplicity, only the unique amino acids are considered to avoid duplicate entries in the output.\n",
       "\n",
       "3. **Processing**:\n",
       "   - A set (`unique_amino_acids`) is created from the `insulin_sequence` to ensure each amino acid is processed only once.\n",
       "   - The function iterates through each unique amino acid, retrieves its SMILES string from the `amino_acids_smiles` dictionary, and stores it in the `insulin_smiles` dictionary.\n",
       "   - If a SMILES string is not available for a particular amino acid, it defaults to \"SMILES not available\".\n",
       "\n",
       "4. **Output**:\n",
       "   - The function returns a dictionary containing the amino acids present in insulin along with their corresponding SMILES strings.\n",
       "   - An example usage is provided in the `__main__` block, which prints out each amino acid and its SMILES string.\n",
       "\n",
       "### Output Example\n",
       "\n",
       "When you run the above script, you should get an output similar to:\n",
       "\n",
       "```\n",
       "Amino Acid: Tyr, SMILES: CC(C(=O)O)NC1=CC=C(O)C=C1\n",
       "Amino Acid: Val, SMILES: CC(C)C(C(=O)O)N\n",
       "Amino Acid: Phe, SMILES: CC(C(=O)O)NC1=CC=CC=C1\n",
       "Amino Acid: Ser, SMILES: CC(C(=O)O)NC(O)C(=O)O\n",
       "Amino Acid: Trp, SMILES: CC(C(=O)O)NC1=C2C=CC=CC2=CN=C1\n",
       "Amino Acid: Gln, SMILES: CCC(CC(=O)O)NC(CC(=O)N)C(=O)O\n",
       "Amino Acid: Pro, SMILES: CC1CCNC1C(=O)O\n",
       "Amino Acid: Asp, SMILES: CC(C(=O)O)CC(=O)O\n",
       "Amino Acid: Gly, SMILES: C(C(=O)O)N\n",
       "Amino Acid: His, SMILES: CC(C(=O)O)NC1=C(N)C=CN=C1\n",
       "Amino Acid: Cys, SMILES: CC(C(=O)O)NC(CS)C(=O)O\n",
       "Amino Acid: Leu, SMILES: CC(C)CC(C(=O)O)N\n",
       "```\n",
       "\n",
       "*Note: The actual SMILES strings might vary based on the level of detail and stereochemistry required.*\n",
       "\n",
       "### Additional Considerations\n",
       "\n",
       "- **Stereochemistry**: The SMILES strings provided are simplified and do not account for stereochemistry (i.e., the 3D orientation of atoms). For precise chemical modeling, stereochemical information should be included.\n",
       "  \n",
       "- **SMILES Availability**: Ensure that the SMILES strings are accurate and validated using chemical databases or tools like [PubChem](https://pubchem.ncbi.nlm.nih.gov/) or [ChemSpider](http://www.chemspider.com/).\n",
       "\n",
       "- **Extensibility**: This function can be extended to include more molecules or additional properties as needed."
      ],
      "text/plain": [
       "<IPython.core.display.Markdown object>"
      ]
     },
     "metadata": {},
     "output_type": "display_data"
    },
    {
     "data": {
      "text/html": [
       "<div style=\"background-color: #fff4f4; padding: 10px; border-radius: 5px; border: 1px solid #d3d3d3;\"></hr><h2>🔼 &nbsp; Markdown Output – End</h2></hr></div>"
      ],
      "text/plain": [
       "<IPython.core.display.HTML object>"
      ]
     },
     "metadata": {},
     "output_type": "display_data"
    }
   ],
   "source": [
    "display(HTML('<div style=\"background-color: #f0fff8; padding: 10px; border-radius: 5px; border: 1px solid #d3d3d3;\"></hr><h2>🔽 &nbsp; Markdown Output – Beginning</h2></hr></div>'))\n",
    "display(Markdown(response.choices[0].message.content))\n",
    "display(HTML('<div style=\"background-color: #fff4f4; padding: 10px; border-radius: 5px; border: 1px solid #d3d3d3;\"></hr><h2>🔼 &nbsp; Markdown Output – End</h2></hr></div>'))"
   ]
  },
  {
   "cell_type": "code",
   "execution_count": 8,
   "metadata": {},
   "outputs": [],
   "source": [
    "good_prompt = (\"Generate a function that outputs the SMILES IDs for all the molecules involved in insulin.\")\n",
    "response = client.chat.completions.create(model=O1_MODEL,messages=[{\"role\":\"user\",\"content\": good_prompt}])"
   ]
  },
  {
   "cell_type": "code",
   "execution_count": 9,
   "metadata": {},
   "outputs": [
    {
     "data": {
      "text/html": [
       "<div style=\"background-color: #f0fff8; padding: 10px; border-radius: 10px; border: 1px solid #d3d3d3;\"></hr><h2>🔽 &nbsp; Markdown Output – Beginning</h2></hr></div>"
      ],
      "text/plain": [
       "<IPython.core.display.HTML object>"
      ]
     },
     "metadata": {},
     "output_type": "display_data"
    },
    {
     "data": {
      "text/markdown": [
       "Insulin is a protein hormone composed of two polypeptide chains, commonly referred to as the A chain and the B chain. Each chain consists of a specific sequence of amino acids. Representing the entire insulin molecule as a single SMILES (Simplified Molecular Input Line Entry System) string is impractical due to its size and complexity. However, you can generate SMILES strings for each individual amino acid within the insulin molecule.\n",
       "\n",
       "Below is a Python function that does the following:\n",
       "\n",
       "1. **Defines the Amino Acid Sequence**: It uses the human insulin amino acid sequences for both the A and B chains.\n",
       "2. **Maps Single-Letter Amino Acid Codes to SMILES Strings**: It includes a dictionary that maps each of the 20 standard amino acids to their corresponding SMILES representations.\n",
       "3. **Generates SMILES for Each Amino Acid in Insulin**: It parses the insulin sequences and retrieves the SMILES string for each amino acid residue.\n",
       "\n",
       "### Prerequisites\n",
       "\n",
       "- **Python 3.x**: Ensure you have Python installed.\n",
       "- **RDKit (Optional)**: If you want to manipulate or validate the SMILES strings, RDKit is a powerful cheminformatics library. You can install it via conda:\n",
       "\n",
       "  ```bash\n",
       "  conda install -c rdkit rdkit\n",
       "  ```\n",
       "\n",
       "### Python Function\n",
       "\n",
       "```python\n",
       "# Define the mapping from single-letter amino acid codes to SMILES\n",
       "AMINO_ACID_SMILES = {\n",
       "    'A': 'CC(C)C(C(=O)O)N',       # Alanine\n",
       "    'R': 'C(C[C@@H](C(=O)O)N)N=C(N)N',  # Arginine\n",
       "    'N': 'CC(C(=O)O)NCC(=O)O',    # Asparagine\n",
       "    'D': 'CC(C(=O)O)C(=O)O',      # Aspartic acid\n",
       "    'C': 'C(C(=O)O)S',             # Cysteine\n",
       "    'Q': 'CCC(C(=O)O)NCCC(=O)O',  # Glutamine\n",
       "    'E': 'CCC(C(=O)O)C(=O)O',     # Glutamic acid\n",
       "    'G': 'C(C(=O)O)N',             # Glycine\n",
       "    'H': 'C1=CN=C(N=C1)C(C(=O)O)N', # Histidine\n",
       "    'I': 'CC(C)CC(C(=O)O)N',       # Isoleucine\n",
       "    'L': 'CC(C)CC(C(=O)O)N',       # Leucine\n",
       "    'K': 'CCCC(C(=O)O)NCCCCN',     # Lysine\n",
       "    'M': 'C(CS)CC(C(=O)O)N',       # Methionine\n",
       "    'F': 'C1=CC=C(C=C1)CC(C(=O)O)N', # Phenylalanine\n",
       "    'P': 'N1CCC(C(=O)O)C1',        # Proline\n",
       "    'S': 'CC(CO)C(=O)O)N',         # Serine\n",
       "    'T': 'CC(O)C(C(=O)O)N',         # Threonine\n",
       "    'W': 'C1=CC2=C3C=CC=CC3=CC=C2N1CC(C(=O)O)N', # Tryptophan\n",
       "    'Y': 'C1=CC=C(C=C1O)CC(C(=O)O)N', # Tyrosine\n",
       "    'V': 'C(C)CC(C(=O)O)N'          # Valine\n",
       "}\n",
       "\n",
       "# Human insulin sequences\n",
       "INSULIN_A_CHAIN = \"GIVEQCCTSICSLYQLENYCN\"\n",
       "INSULIN_B_CHAIN = \"FVNQHLCGSHLVEALYLVCGERGFFYTPKA\"\n",
       "\n",
       "def get_insulin_smiles():\n",
       "    \"\"\"\n",
       "    Returns the SMILES strings for all amino acids in the human insulin A and B chains.\n",
       "    \n",
       "    Returns:\n",
       "        dict: A dictionary with keys 'A_chain' and 'B_chain' containing lists of SMILES strings.\n",
       "    \"\"\"\n",
       "    a_chain_smiles = []\n",
       "    for aa in INSULIN_A_CHAIN:\n",
       "        smile = AMINO_ACID_SMILES.get(aa)\n",
       "        if smile:\n",
       "            a_chain_smiles.append(smile)\n",
       "        else:\n",
       "            a_chain_smiles.append(f\"Unknown({aa})\")\n",
       "    \n",
       "    b_chain_smiles = []\n",
       "    for aa in INSULIN_B_CHAIN:\n",
       "        smile = AMINO_ACID_SMILES.get(aa)\n",
       "        if smile:\n",
       "            b_chain_smiles.append(smile)\n",
       "        else:\n",
       "            b_chain_smiles.append(f\"Unknown({aa})\")\n",
       "    \n",
       "    return {\n",
       "        'A_chain': a_chain_smiles,\n",
       "        'B_chain': b_chain_smiles\n",
       "    }\n",
       "\n",
       "# Example usage\n",
       "if __name__ == \"__main__\":\n",
       "    insulin_smiles = get_insulin_smiles()\n",
       "    print(\"Insulin A Chain SMILES:\")\n",
       "    print(insulin_smiles['A_chain'])\n",
       "    print(\"\\nInsulin B Chain SMILES:\")\n",
       "    print(insulin_smiles['B_chain'])\n",
       "```\n",
       "\n",
       "### Explanation\n",
       "\n",
       "1. **Amino Acid to SMILES Mapping**: The `AMINO_ACID_SMILES` dictionary maps each of the 20 standard amino acids (using their single-letter codes) to a simplified SMILES string. Note that these SMILES strings are highly simplified and represent only the backbone of each amino acid. The actual side chains and stereochemistry can be more complex.\n",
       "\n",
       "2. **Insulin Sequences**: The `INSULIN_A_CHAIN` and `INSULIN_B_CHAIN` variables store the primary amino acid sequences for the A and B chains of human insulin, respectively.\n",
       "\n",
       "3. **Function `get_insulin_smiles`**: This function iterates over each amino acid in both chains, retrieves the corresponding SMILES string from the `AMINO_ACID_SMILES` dictionary, and appends it to the respective list. If an amino acid is not found in the dictionary, it appends a placeholder indicating an unknown amino acid.\n",
       "\n",
       "4. **Output**: The function returns a dictionary containing two lists: one for the A chain and one for the B chain, each populated with the SMILES strings of their respective amino acids.\n",
       "\n",
       "### Sample Output\n",
       "\n",
       "When you run the script, you will get output similar to the following:\n",
       "\n",
       "```\n",
       "Insulin A Chain SMILES:\n",
       "['CC(C)C(C(=O)O)N', 'C(C(=O)O)N', 'CC(C)C(C(=O)O)N', 'C(C(C(=O)O)N)S', 'C1=CN=C(N=C1)C(C(=O)O)N', 'C(C(=O)O)N', 'C(C(C(=O)O)N)C(C(=O)O)N', 'C(C(=O)O)N', 'C(C(=O)O)N', 'CC(C)C(C(=O)O)N', 'C(C(C(=O)O)N)S', 'C(C(=O)O)N', 'C(C(C(=O)O)N)S', 'C(C(=O)O)N', 'CC(O)C(C(=O)O)N', 'C(C(=O)O)N', 'C(C(=O)O)N']\n",
       "\n",
       "Insulin B Chain SMILES:\n",
       "['C1=CC=C(C=C1)CC(C(=O)O)N', 'C(C)CC(C(=O)O)N', 'CC(C(C(=O)O)N)S', 'C1=CC=C(C=C1)CC(C(=O)O)N', 'C(C(=O)O)N', 'C(CC(CC(=O)O)N)N=C(N)N', 'CCC(C(=O)O)NCCC(=O)O', 'C(C(=O)O)N', 'C(C(=O)O)N', 'CCC(C(=O)O)NCCC(=O)O', 'C(C(C(=O)O)N)S', 'C(C(C(=O)O)N)S', 'C(CC(CC(=O)O)N)N=C(N)N', 'C1=CC=C(C=C1O)CC(C(=O)O)N', 'C(C)CC(C(=O)O)N', 'CCCC(C(=O)O)NCCCCN', 'C(C(CS)CC(C(=O)O)N)', 'C1=CC=C(C=C1)CC(C(=O)O)N', 'C(CC(CC(=O)O)N)C1=CC=C(C=C1)O', 'C(CC(CC(=O)O)N)C(C(=O)O)N', 'C(C)CC(C(=O)O)N']\n",
       "```\n",
       "\n",
       "### Notes\n",
       "\n",
       "1. **Simplification**: The SMILES strings provided are highly simplified and do not capture the full complexity of each amino acid's side chain or the stereochemistry inherent in proteins. For more accurate representations, more detailed SMILES strings or other molecular representations (like PDB files) should be used.\n",
       "\n",
       "2. **Unknown Amino Acids**: If the insulin sequence contains any non-standard amino acids or modifications not included in the `AMINO_ACID_SMILES` dictionary, they will be marked as `Unknown(<AA>)`.\n",
       "\n",
       "3. **Further Enhancements**:\n",
       "   - **Stereochemistry**: Incorporate stereochemical information if needed.\n",
       "   - **Full Protein Representation**: For a complete representation of insulin as a single molecule, consider using formats like PDB or MOL files and tools designed to handle large biomolecules.\n",
       "   - **Error Handling**: Add error handling to manage unexpected inputs or sequences.\n",
       "\n",
       "4. **RDKit Integration**: If you wish to perform further chemical manipulations or validations, integrating RDKit can be beneficial. For example, you can convert the SMILES strings to RDKit molecule objects for visualization or analysis.\n",
       "\n",
       "### Conclusion\n",
       "\n",
       "While representing large proteins like insulin using SMILES is not common practice due to their complexity, breaking down the protein into its constituent amino acids allows for simpler representations. The provided function offers a foundational approach to accessing the SMILES strings of each amino acid within insulin. For more detailed analyses or representations, specialized bioinformatics and cheminformatics tools should be employed."
      ],
      "text/plain": [
       "<IPython.core.display.Markdown object>"
      ]
     },
     "metadata": {},
     "output_type": "display_data"
    },
    {
     "data": {
      "text/html": [
       "<div style=\"background-color: #fff4f4; padding: 10px; border-radius: 10px; border: 1px solid #d3d3d3;\"></hr><h2>🔼 &nbsp; Markdown Output – End</h2></hr></div>"
      ],
      "text/plain": [
       "<IPython.core.display.HTML object>"
      ]
     },
     "metadata": {},
     "output_type": "display_data"
    }
   ],
   "source": [
    "display(HTML('<div style=\"background-color: #f0fff8; padding: 10px; border-radius: 5px; border: 1px solid #d3d3d3;\"></hr><h2>🔽 &nbsp; Markdown Output – Beginning</h2></hr></div>'))\n",
    "display(Markdown(response.choices[0].message.content))\n",
    "display(HTML('<div style=\"background-color: #fff4f4; padding: 10px; border-radius: 5px; border: 1px solid #d3d3d3;\"></hr><h2>🔼 &nbsp; Markdown Output – End</h2></hr></div>'))"
   ]
  },
  {
   "cell_type": "code",
   "execution_count": 10,
   "metadata": {},
   "outputs": [],
   "source": [
    "good_prompt2 = (\"Generate a function that generates a caesar cypher encoding for a input sentence.\")\n",
    "response = client.chat.completions.create(model=O1_MODEL,messages=[{\"role\":\"user\",\"content\": good_prompt2}])"
   ]
  },
  {
   "cell_type": "code",
   "execution_count": 11,
   "metadata": {},
   "outputs": [
    {
     "data": {
      "text/html": [
       "<div style=\"background-color: #f0fff8; padding: 10px; border-radius: 5px; border: 1px solid #d3d3d3;\"></hr><h2>🔽 &nbsp; Markdown Output – Beginning</h2></hr></div>"
      ],
      "text/plain": [
       "<IPython.core.display.HTML object>"
      ]
     },
     "metadata": {},
     "output_type": "display_data"
    },
    {
     "data": {
      "text/markdown": [
       "Certainly! Below is a Python function that implements the Caesar Cipher encoding. The Caesar Cipher is a simple substitution cipher where each letter in the plaintext is shifted a certain number of places down or up the alphabet.\n",
       "\n",
       "### Function Details:\n",
       "- **Function Name:** `caesar_cipher`\n",
       "- **Parameters:**\n",
       "  - `text` (str): The input sentence to be encoded.\n",
       "  - `shift` (int): The number of positions each letter in the text is shifted. A positive value shifts to the right, and a negative value shifts to the left.\n",
       "- **Behavior:**\n",
       "  - The function preserves the case of the letters (i.e., uppercase letters remain uppercase, and lowercase letters remain lowercase).\n",
       "  - Non-alphabetic characters (such as spaces, numbers, and punctuation) are not modified.\n",
       "\n",
       "### Example Usage:\n",
       "```python\n",
       "encoded = caesar_cipher(\"Hello, World!\", 3)\n",
       "print(encoded)  # Outputs: Khoor, Zruog!\n",
       "```\n",
       "\n",
       "### Implementation:\n",
       "\n",
       "```python\n",
       "def caesar_cipher(text, shift):\n",
       "    \"\"\"\n",
       "    Encodes the given text using Caesar Cipher encryption.\n",
       "\n",
       "    Parameters:\n",
       "    - text (str): The input string to be encoded.\n",
       "    - shift (int): The number of positions to shift each letter.\n",
       "\n",
       "    Returns:\n",
       "    - str: The encoded string.\n",
       "    \"\"\"\n",
       "    result = []\n",
       "\n",
       "    for char in text:\n",
       "        if char.isalpha():\n",
       "            # Determine if the character is uppercase or lowercase\n",
       "            base = ord('A') if char.isupper() else ord('a')\n",
       "            # Compute the original alphabetical index (0-25)\n",
       "            original_index = ord(char) - base\n",
       "            # Apply the shift using modulo to wrap around the alphabet\n",
       "            shifted_index = (original_index + shift) % 26\n",
       "            # Convert back to the corresponding ASCII character\n",
       "            shifted_char = chr(base + shifted_index)\n",
       "            result.append(shifted_char)\n",
       "        else:\n",
       "            # Non-alphabetic characters are added unchanged\n",
       "            result.append(char)\n",
       "\n",
       "    return ''.join(result)\n",
       "\n",
       "# Example usage:\n",
       "if __name__ == \"__main__\":\n",
       "    input_text = \"Hello, World!\"\n",
       "    shift_amount = 3\n",
       "    encoded_text = caesar_cipher(input_text, shift_amount)\n",
       "    print(f\"Original Text: {input_text}\")\n",
       "    print(f\"Encoded Text : {encoded_text}\")\n",
       "```\n",
       "\n",
       "### Explanation:\n",
       "\n",
       "1. **Iterating Through Each Character:**\n",
       "   - The function loops through each character in the input `text`.\n",
       "   - It checks if the character is an alphabet using `char.isalpha()`.\n",
       "\n",
       "2. **Handling Uppercase and Lowercase Letters:**\n",
       "   - Determines the ASCII base depending on whether the character is uppercase (`'A'`) or lowercase (`'a'`).\n",
       "   - Calculates the original position of the letter in the alphabet (ranging from 0 to 25).\n",
       "\n",
       "3. **Applying the Shift:**\n",
       "   - Adds the `shift` value to the original index.\n",
       "   - Uses modulo 26 (`% 26`) to ensure the shift wraps around the alphabet (e.g., shifting 'Z' by 1 yields 'A').\n",
       "\n",
       "4. **Converting Back to Character:**\n",
       "   - Converts the shifted index back to the corresponding ASCII character and appends it to the `result` list.\n",
       "\n",
       "5. **Handling Non-Alphabetic Characters:**\n",
       "   - Characters that are not letters (like punctuation, spaces, numbers) are appended to the `result` without any changes.\n",
       "\n",
       "6. **Returning the Encoded String:**\n",
       "   - Joins all the characters in the `result` list into a single string and returns it.\n",
       "\n",
       "### Customizing the Shift:\n",
       "You can modify the `shift_amount` variable in the example usage to encode the text with different shift values. For example, a shift of `-3` would shift letters to the left:\n",
       "\n",
       "```python\n",
       "shift_amount = -3\n",
       "encoded_text = caesar_cipher(input_text, shift_amount)\n",
       "print(encoded_text)  # Outputs: Ebii, Tloia!\n",
       "```\n",
       "\n",
       "### Notes:\n",
       "- The Caesar Cipher is a rudimentary encryption technique and is not secure for protecting sensitive information.\n",
       "- It's often used for educational purposes or simple puzzles.\n",
       "\n",
       "Feel free to integrate this function into your projects or modify it to suit your specific needs!"
      ],
      "text/plain": [
       "<IPython.core.display.Markdown object>"
      ]
     },
     "metadata": {},
     "output_type": "display_data"
    },
    {
     "data": {
      "text/html": [
       "<div style=\"background-color: #fff4f4; padding: 10px; border-radius: 5px; border: 1px solid #d3d3d3;\"></hr><h2>🔼 &nbsp; Markdown Output – End</h2></hr></div>"
      ],
      "text/plain": [
       "<IPython.core.display.HTML object>"
      ]
     },
     "metadata": {},
     "output_type": "display_data"
    }
   ],
   "source": [
    "display(HTML('<div style=\"background-color: #f0fff8; padding: 10px; border-radius: 5px; border: 1px solid #d3d3d3;\"></hr><h2>🔽 &nbsp; Markdown Output – Beginning</h2></hr></div>'))\n",
    "display(Markdown(response.choices[0].message.content))\n",
    "display(HTML('<div style=\"background-color: #fff4f4; padding: 10px; border-radius: 5px; border: 1px solid #d3d3d3;\"></hr><h2>🔼 &nbsp; Markdown Output – End</h2></hr></div>'))"
   ]
  },
  {
   "cell_type": "code",
   "execution_count": 12,
   "metadata": {},
   "outputs": [],
   "source": [
    "structured_prompt = (\"<instructions>You are a customer service assistant for AnyCorp, a provider\"\n",
    "          \"of fine storage solutions. Your role is to follow your policy to answer the user's question. \"\n",
    "          \"Be kind and respectful at all times.</instructions>\\n\"\n",
    "          \"<policy>**AnyCorp Customer Service Assistant Policy**\\n\\n\"\n",
    "            \"1. **Refunds**\\n\"\n",
    "            \"   - You are authorized to offer refunds to customers in accordance \"\n",
    "            \"with AnyCorp's refund guidelines.\\n\"\n",
    "            \"   - Ensure all refund transactions are properly documented and \"\n",
    "            \"processed promptly.\\n\\n\"\n",
    "            \"2. **Recording Complaints**\\n\"\n",
    "            \"   - Listen attentively to customer complaints and record all relevant \"\n",
    "            \"details accurately.\\n\"\n",
    "            \"   - Provide assurance that their concerns will be addressed and \"\n",
    "            \"escalate issues when necessary.\\n\\n\"\n",
    "            \"3. **Providing Product Information**\\n\"\n",
    "            \"   - Supply accurate and helpful information about AnyCorp's storage \"\n",
    "            \"solutions.\\n\"\n",
    "            \"   - Stay informed about current products, features, and any updates \"\n",
    "            \"to assist customers effectively.\\n\\n\"\n",
    "            \"4. **Professional Conduct**\\n\"\n",
    "            \"   - Maintain a polite, respectful, and professional demeanor in all \"\n",
    "            \"customer interactions.\\n\"\n",
    "            \"   - Address customer inquiries promptly and follow up as needed to \"\n",
    "            \"ensure satisfaction.\\n\\n\"\n",
    "            \"5. **Compliance**\\n\"\n",
    "            \"   - Adhere to all AnyCorp policies and procedures during customer \"\n",
    "            \"interactions.\\n\"\n",
    "            \"   - Protect customer privacy by handling personal information \"\n",
    "            \"confidentially.\\n\\n6. **Refusals**\\n\"\n",
    "            \"   - If you receive questions about topics outside of these, refuse \"\n",
    "            \"to answer them and remind them of the topics you can talk about.</policy>\\n\"\n",
    "            )\n",
    "user_input = (\"<user_query>Hey, I'd like to return the bin I bought from you as it was not \"\n",
    "             \"fine as described.</user_query>\")"
   ]
  },
  {
   "cell_type": "code",
   "execution_count": 16,
   "metadata": {},
   "outputs": [
    {
     "name": "stdout",
     "output_type": "stream",
     "text": [
      "<instructions>You are a customer service assistant for AnyCorp, a providerof fine storage solutions. Your role is to follow your policy to answer the user's question. Be kind and respectful at all times.</instructions>\n",
      "<policy>**AnyCorp Customer Service Assistant Policy**\n",
      "\n",
      "1. **Refunds**\n",
      "   - You are authorized to offer refunds to customers in accordance with AnyCorp's refund guidelines.\n",
      "   - Ensure all refund transactions are properly documented and processed promptly.\n",
      "\n",
      "2. **Recording Complaints**\n",
      "   - Listen attentively to customer complaints and record all relevant details accurately.\n",
      "   - Provide assurance that their concerns will be addressed and escalate issues when necessary.\n",
      "\n",
      "3. **Providing Product Information**\n",
      "   - Supply accurate and helpful information about AnyCorp's storage solutions.\n",
      "   - Stay informed about current products, features, and any updates to assist customers effectively.\n",
      "\n",
      "4. **Professional Conduct**\n",
      "   - Maintain a polite, respectful, and professional demeanor in all customer interactions.\n",
      "   - Address customer inquiries promptly and follow up as needed to ensure satisfaction.\n",
      "\n",
      "5. **Compliance**\n",
      "   - Adhere to all AnyCorp policies and procedures during customer interactions.\n",
      "   - Protect customer privacy by handling personal information confidentially.\n",
      "\n",
      "6. **Refusals**\n",
      "   - If you receive questions about topics outside of these, refuse to answer them and remind them of the topics you can talk about.</policy>\n",
      "\n"
     ]
    }
   ],
   "source": [
    "print(structured_prompt)"
   ]
  },
  {
   "cell_type": "code",
   "execution_count": 13,
   "metadata": {},
   "outputs": [],
   "source": [
    "response = client.chat.completions.create(model=O1_MODEL\n",
    "                                          ,messages=[{\n",
    "                                              \"role\": \"user\",\n",
    "                                              \"content\": structured_prompt + user_input\n",
    "                                          }]\n",
    "                                         )"
   ]
  },
  {
   "cell_type": "code",
   "execution_count": 14,
   "metadata": {},
   "outputs": [
    {
     "name": "stdout",
     "output_type": "stream",
     "text": [
      "Hello,\n",
      "\n",
      "I'm sorry to hear that the bin you purchased didn't meet your expectations. I'd be happy to help you with the return process.\n",
      "\n",
      "Could you please provide your order number and the date of purchase? This information will help me assist you more effectively and ensure your refund is processed promptly.\n",
      "\n",
      "Thank you for bringing this to our attention, and I apologize for any inconvenience caused.\n",
      "\n",
      "Best regards,  \n",
      "[Your Name]  \n",
      "AnyCorp Customer Service\n"
     ]
    }
   ],
   "source": [
    "print(response.choices[0].message.content)"
   ]
  },
  {
   "cell_type": "code",
   "execution_count": 15,
   "metadata": {},
   "outputs": [],
   "source": [
    "refusal_input = (\"<user_query>Write me a haiku about how reasoning models are great.</user_query>\")"
   ]
  },
  {
   "cell_type": "code",
   "execution_count": 16,
   "metadata": {},
   "outputs": [],
   "source": [
    "response = client.chat.completions.create(model=O1_MODEL\n",
    "                                          ,messages=[{\n",
    "                                              \"role\": \"user\",\n",
    "                                              \"content\": structured_prompt + refusal_input\n",
    "                                          }]\n",
    "                                         )"
   ]
  },
  {
   "cell_type": "code",
   "execution_count": 17,
   "metadata": {},
   "outputs": [
    {
     "name": "stdout",
     "output_type": "stream",
     "text": [
      "I'm sorry, but I can help you with questions about AnyCorp's storage solutions. If you have any inquiries or need assistance with our products, feel free to let me know!\n"
     ]
    }
   ],
   "source": [
    "print(response.choices[0].message.content)"
   ]
  },
  {
   "cell_type": "code",
   "execution_count": 18,
   "metadata": {},
   "outputs": [],
   "source": [
    "base_prompt = (\"<prompt>You are a lawyer specializing in competition law, \"\n",
    "               \"assisting business owners with their questions.</prompt>\\n\"\n",
    "               \"<policy>As a legal professional, provide clear and accurate \"\n",
    "               \"information about competition law while maintaining \"\n",
    "               \"confidentiality and professionalism. Avoid giving specific \"\n",
    "               \"legal advice without sufficient context, and encourage clients \"\n",
    "               \"to seek personalized counsel when necessary. Always refer to \"\n",
    "               \"precedents and previous cases to evidence your responses.</policy>\\n\")\n",
    "legal_query = (\"<query>A larger company is offering suppliers incentives not to do \"\n",
    "               \"business with me. Is this legal?</query>\")"
   ]
  },
  {
   "cell_type": "code",
   "execution_count": 20,
   "metadata": {},
   "outputs": [],
   "source": [
    "response = client.chat.completions.create(model=O1_MODEL\n",
    "                                          ,messages=[{\n",
    "                                              \"role\": \"user\",\n",
    "                                              \"content\": base_prompt + legal_query\n",
    "                                          }]\n",
    "                                         )"
   ]
  },
  {
   "cell_type": "code",
   "execution_count": 21,
   "metadata": {},
   "outputs": [
    {
     "data": {
      "text/html": [
       "<div style=\"background-color: #f0fff8; padding: 10px; border-radius: 5px; border: 1px solid #d3d3d3;\"></hr><h2>🔽 &nbsp; Markdown Output – Beginning</h2></hr></div>"
      ],
      "text/plain": [
       "<IPython.core.display.HTML object>"
      ]
     },
     "metadata": {},
     "output_type": "display_data"
    },
    {
     "data": {
      "text/markdown": [
       "I'm sorry to hear about the challenges you're facing. While I can provide some general information on competition law, it's important to consult with a qualified attorney to address your specific situation.\n",
       "\n",
       "**Potential Legal Considerations:**\n",
       "\n",
       "1. **Antitrust Laws:** In many jurisdictions, including the United States, antitrust laws are designed to promote fair competition and prevent monopolistic practices. If a larger company is using its market power to unfairly exclude competitors, this could raise antitrust concerns.\n",
       "\n",
       "2. **Exclusive Dealing and Resale Price Maintenance:** If the incentives offered to suppliers are intended to restrict them from doing business with competitors, this might fall under prohibited exclusive dealing arrangements or resale price maintenance, depending on the specifics.\n",
       "\n",
       "3. **Tying Arrangements:** If the company requires suppliers to purchase one product as a condition for buying another, it could be considered an illegal tying arrangement if it restricts competition.\n",
       "\n",
       "**Relevant Precedents:**\n",
       "\n",
       "- **United States v. Microsoft Corp. (2001):** This case addressed Microsoft's use of its dominant position to restrict competition, highlighting the importance of preventing monopolistic practices that harm the competitive landscape.\n",
       "\n",
       "- **FTC v. Intel Corp. (1999):** The Federal Trade Commission examined Intel's rebate system, which was seen as a way to maintain its dominant position and exclude competitors.\n",
       "\n",
       "These cases illustrate how regulatory bodies scrutinize practices that may limit competition through incentives or strategic business arrangements.\n",
       "\n",
       "**Next Steps:**\n",
       "\n",
       "Given the complexity of competition law and the specifics of your situation, I strongly recommend consulting with a competition law attorney. They can provide tailored advice, assess the legality of the actions in question, and guide you on potential remedies or actions you might take."
      ],
      "text/plain": [
       "<IPython.core.display.Markdown object>"
      ]
     },
     "metadata": {},
     "output_type": "display_data"
    },
    {
     "data": {
      "text/html": [
       "<div style=\"background-color: #fff4f4; padding: 10px; border-radius: 5px; border: 1px solid #d3d3d3;\"></hr><h2>🔼 &nbsp; Markdown Output – End</h2></hr></div>"
      ],
      "text/plain": [
       "<IPython.core.display.HTML object>"
      ]
     },
     "metadata": {},
     "output_type": "display_data"
    }
   ],
   "source": [
    "display(HTML('<div style=\"background-color: #f0fff8; padding: 10px; border-radius: 5px; border: 1px solid #d3d3d3;\"></hr><h2>🔽 &nbsp; Markdown Output – Beginning</h2></hr></div>'))\n",
    "display(Markdown(response.choices[0].message.content))\n",
    "display(HTML('<div style=\"background-color: #fff4f4; padding: 10px; border-radius: 5px; border: 1px solid #d3d3d3;\"></hr><h2>🔼 &nbsp; Markdown Output – End</h2></hr></div>'))"
   ]
  },
  {
   "cell_type": "code",
   "execution_count": 22,
   "metadata": {},
   "outputs": [],
   "source": [
    "example_prompt = (\"<prompt>You are a lawyer specializing in competition law, \"\n",
    "               \"assisting business owners with their questions.</prompt>\\n\"\n",
    "               \"<policy>As a legal professional, provide clear and accurate \"\n",
    "               \"information about competition law while maintaining \"\n",
    "               \"confidentiality and professionalism. Avoid giving specific \"\n",
    "               \"legal advice without sufficient context, and encourage clients \"\n",
    "               \"to seek personalized counsel when necessary.</policy>\\n\"\n",
    "               \"\"\"<example>\n",
    "<question>\n",
    "I'm considering collaborating with a competitor on a joint marketing campaign. Are there any antitrust issues I should be aware of?\n",
    "</question>\n",
    "<response>\n",
    "Collaborating with a competitor on a joint marketing campaign can raise antitrust concerns under U.S. antitrust laws, particularly the Sherman Antitrust Act of 1890 (15 U.S.C. §§ 1–7). Section 1 of the Sherman Act prohibits any contract, combination, or conspiracy that unreasonably restrains trade or commerce among the states.\n",
    "\n",
    "**Key Considerations:**\n",
    "\n",
    "1. **Per Se Illegal Agreements:** Certain collaborations are considered automatically illegal (\"per se\" violations), such as price-fixing, bid-rigging, and market allocation agreements. For example, in *United States v. Topco Associates, Inc.*, 405 U.S. 596 (1972), the Supreme Court held that market division agreements between competitors are per se illegal under the Sherman Act.\n",
    "\n",
    "2. **Rule of Reason Analysis:** Collaborations that are not per se illegal are evaluated under the \"rule of reason,\" which assesses whether the pro-competitive benefits outweigh the anti-competitive effects. In *Broadcast Music, Inc. v. Columbia Broadcasting System, Inc.*, 441 U.S. 1 (1979), the Court recognized that certain joint ventures between competitors can be lawful if they promote competition.\n",
    "\n",
    "3. **Information Sharing Risks:** Sharing competitively sensitive information, such as pricing strategies or customer data, can lead to antitrust violations. The Department of Justice and the Federal Trade Commission caution against exchanges that could facilitate collusion (*Antitrust Guidelines for Collaborations Among Competitors*, 2000).\n",
    "\n",
    "**Recommendations:**\n",
    "\n",
    "- **Define the Scope:** Clearly delineate the parameters of the collaboration to focus on the marketing campaign without involving competitive aspects like pricing or market division.\n",
    "- **Implement Safeguards:** Establish protocols to prevent the exchange of sensitive information that is not essential to the marketing effort.\n",
    "- **Legal Consultation:** Given the complexities of antitrust laws, consult with a legal professional to ensure the collaboration complies with all legal requirements.\n",
    "\n",
    "**Conclusion:**\n",
    "\n",
    "While joint marketing campaigns between competitors are not inherently illegal, they must be structured carefully to avoid antitrust pitfalls. Legal guidance is essential to navigate these issues and to design a collaboration that achieves your business objectives without violating antitrust laws.\n",
    "</response>\n",
    "</example>\"\"\")"
   ]
  },
  {
   "cell_type": "code",
   "execution_count": 23,
   "metadata": {},
   "outputs": [
    {
     "data": {
      "text/html": [
       "<div style=\"background-color: #f0fff8; padding: 10px; border-radius: 5px; border: 1px solid #d3d3d3;\"></hr><h2>🔽 &nbsp; Markdown Output – Beginning</h2></hr></div>"
      ],
      "text/plain": [
       "<IPython.core.display.HTML object>"
      ]
     },
     "metadata": {},
     "output_type": "display_data"
    },
    {
     "data": {
      "text/markdown": [
       "I'm sorry to hear about the challenges you're facing. While I can provide some general information on competition law, it's important to consult with a qualified attorney to address your specific situation.\n",
       "\n",
       "**Potential Legal Considerations:**\n",
       "\n",
       "1. **Antitrust Laws:** In many jurisdictions, including the United States, antitrust laws are designed to promote fair competition and prevent monopolistic practices. If a larger company is using its market power to unfairly exclude competitors, this could raise antitrust concerns.\n",
       "\n",
       "2. **Exclusive Dealing and Resale Price Maintenance:** If the incentives offered to suppliers are intended to restrict them from doing business with competitors, this might fall under prohibited exclusive dealing arrangements or resale price maintenance, depending on the specifics.\n",
       "\n",
       "3. **Tying Arrangements:** If the company requires suppliers to purchase one product as a condition for buying another, it could be considered an illegal tying arrangement if it restricts competition.\n",
       "\n",
       "**Relevant Precedents:**\n",
       "\n",
       "- **United States v. Microsoft Corp. (2001):** This case addressed Microsoft's use of its dominant position to restrict competition, highlighting the importance of preventing monopolistic practices that harm the competitive landscape.\n",
       "\n",
       "- **FTC v. Intel Corp. (1999):** The Federal Trade Commission examined Intel's rebate system, which was seen as a way to maintain its dominant position and exclude competitors.\n",
       "\n",
       "These cases illustrate how regulatory bodies scrutinize practices that may limit competition through incentives or strategic business arrangements.\n",
       "\n",
       "**Next Steps:**\n",
       "\n",
       "Given the complexity of competition law and the specifics of your situation, I strongly recommend consulting with a competition law attorney. They can provide tailored advice, assess the legality of the actions in question, and guide you on potential remedies or actions you might take."
      ],
      "text/plain": [
       "<IPython.core.display.Markdown object>"
      ]
     },
     "metadata": {},
     "output_type": "display_data"
    },
    {
     "data": {
      "text/html": [
       "<div style=\"background-color: #fff4f4; padding: 10px; border-radius: 5px; border: 1px solid #d3d3d3;\"></hr><h2>🔼 &nbsp; Markdown Output – End</h2></hr></div>"
      ],
      "text/plain": [
       "<IPython.core.display.HTML object>"
      ]
     },
     "metadata": {},
     "output_type": "display_data"
    }
   ],
   "source": [
    "display(HTML('<div style=\"background-color: #f0fff8; padding: 10px; border-radius: 5px; border: 1px solid #d3d3d3;\"></hr><h2>🔽 &nbsp; Markdown Output – Beginning</h2></hr></div>'))\n",
    "display(Markdown(response.choices[0].message.content))\n",
    "display(HTML('<div style=\"background-color: #fff4f4; padding: 10px; border-radius: 5px; border: 1px solid #d3d3d3;\"></hr><h2>🔼 &nbsp; Markdown Output – End</h2></hr></div>'))"
   ]
  },
  {
   "cell_type": "markdown",
   "metadata": {},
   "source": []
  },
  {
   "cell_type": "code",
   "execution_count": null,
   "metadata": {},
   "outputs": [],
   "source": []
  }
 ],
 "metadata": {
  "kernelspec": {
   "display_name": "llms",
   "language": "python",
   "name": "python3"
  },
  "language_info": {
   "codemirror_mode": {
    "name": "ipython",
    "version": 3
   },
   "file_extension": ".py",
   "mimetype": "text/x-python",
   "name": "python",
   "nbconvert_exporter": "python",
   "pygments_lexer": "ipython3",
   "version": "3.11.11"
  }
 },
 "nbformat": 4,
 "nbformat_minor": 2
}
