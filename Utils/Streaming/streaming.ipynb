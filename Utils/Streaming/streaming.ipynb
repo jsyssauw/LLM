{
 "cells": [
  {
   "cell_type": "code",
   "execution_count": 2,
   "metadata": {},
   "outputs": [],
   "source": [
    "import os\n",
    "from anthropic import Anthropic\n",
    "from dotenv import load_dotenv\n"
   ]
  },
  {
   "cell_type": "markdown",
   "metadata": {},
   "source": [
    "Pass the api key in the brackets \n",
    "- client = Anthropic(ANTHROPIC_API_KEY=\"abc\")\n",
    "- if not filled in and just () it will look for an environmental key called ANTHROPIC_API_KEY"
   ]
  },
  {
   "cell_type": "code",
   "execution_count": 3,
   "metadata": {},
   "outputs": [
    {
     "name": "stdout",
     "output_type": "stream",
     "text": [
      "ANTHROPIC_API_KEY Key exists and begins sk-ant-a\n"
     ]
    }
   ],
   "source": [
    "load_dotenv()\n",
    "anthropic_api_key = os.getenv('ANTHROPIC_API_KEY')\n",
    "os.environ['ANTHROPIC_API_KEY'] = anthropic_api_key\n",
    "if anthropic_api_key:\n",
    "    print(f\"ANTHROPIC_API_KEY Key exists and begins {anthropic_api_key[:8]}\")\n",
    "else:\n",
    "    print(\"ANTHROPIC_API_KEYKey not set\")\n",
    "\n",
    "client = Anthropic()"
   ]
  },
  {
   "cell_type": "code",
   "execution_count": 4,
   "metadata": {},
   "outputs": [],
   "source": [
    "MODEL_NAME=\"claude-3-5-sonnet-20241022\""
   ]
  },
  {
   "cell_type": "code",
   "execution_count": 6,
   "metadata": {},
   "outputs": [
    {
     "name": "stdout",
     "output_type": "stream",
     "text": [
      "Here's a poem I've created for you:\n",
      "\n",
      "\"Dancing Light\"\n",
      "\n",
      "Through branches bare and winter-worn,\n",
      "A gentle beam of sunlight's born,\n",
      "It dances on the morning frost,\n",
      "Where autumn's memories are lost.\n",
      "\n",
      "Like whispers from a distant star,\n",
      "It travels near, it travels far,\n",
      "Touching earth with golden grace,\n",
      "Warming every shadowed place.\n",
      "\n",
      "Nature wakes beneath its spell,\n",
      "Stories in its warmth to tell,\n",
      "Of dreams that sleep beneath the snow,\n",
      "And spring's sweet promise yet to grow.\n",
      "\n",
      "In this moment, brief but bright,\n",
      "I stand in wonder at the sight,\n",
      "Of simple beauty, pure and free,\n",
      "Dancing light for all to see.\n",
      "\n",
      "How's that? Would you like another poem with a different theme?\n"
     ]
    }
   ],
   "source": [
    "response = client.messages.create(\n",
    "    messages=[{\"role\": \"user\", \"content\": \"write a poem\"}],\n",
    "    model=MODEL_NAME,\n",
    "    max_tokens=200\n",
    ")\n",
    "print(response.content[0].text)"
   ]
  },
  {
   "cell_type": "code",
   "execution_count": 7,
   "metadata": {},
   "outputs": [
    {
     "name": "stdout",
     "output_type": "stream",
     "text": [
      "Here's a poem for you:\n",
      "\n",
      "\"Whispers in the Wind\"\n",
      "\n",
      "Leaves dance in the autumn breeze,\n",
      "Painting stories through the trees,\n",
      "Golden light filters down below,\n",
      "As nature puts on quite a show.\n",
      "\n",
      "Time moves like a gentle stream,\n",
      "Reality mingles with a dream,\n",
      "Moments pass like grains of sand,\n",
      "Slipping through an open hand.\n",
      "\n",
      "In quiet corners of the day,\n",
      "Where shadow and light come to play,\n",
      "There's magic in the simplest things,\n",
      "In every note that nature sings.\n",
      "\n",
      "So pause and breathe the wonder in,\n",
      "Let a new chapter now begin,\n",
      "For in this space between the hours,\n",
      "Life blooms like unexpected flowers."
     ]
    }
   ],
   "source": [
    "with client.messages.stream(\n",
    "    model=MODEL_NAME,\n",
    "    max_tokens=200,\n",
    "    messages=[{\"role\": \"user\", \"content\": \"write a poem\"}]\n",
    ") as stream:\n",
    "  for text in stream.text_stream:\n",
    "      print(text, end=\"\", flush=True)"
   ]
  },
  {
   "cell_type": "code",
   "execution_count": null,
   "metadata": {},
   "outputs": [],
   "source": []
  }
 ],
 "metadata": {
  "kernelspec": {
   "display_name": "llms",
   "language": "python",
   "name": "python3"
  },
  "language_info": {
   "codemirror_mode": {
    "name": "ipython",
    "version": 3
   },
   "file_extension": ".py",
   "mimetype": "text/x-python",
   "name": "python",
   "nbconvert_exporter": "python",
   "pygments_lexer": "ipython3",
   "version": "3.11.11"
  }
 },
 "nbformat": 4,
 "nbformat_minor": 2
}
